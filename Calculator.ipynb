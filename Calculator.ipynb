{
 "cells": [
  {
   "cell_type": "code",
   "execution_count": 1,
   "metadata": {},
   "outputs": [],
   "source": [
    "from Phys340PyPackages.main import (\n",
    "    clau_clap_eqn,\n",
    "    kelvin_eqn,\n",
    "    dewpoint_temp,\n",
    ")\n",
    "\n",
    "from Phys340PyPackages.myData import (\n",
    "    read_exoplanetA,\n",
    "    read_num_densities\n",
    ")"
   ]
  },
  {
   "attachments": {},
   "cell_type": "markdown",
   "metadata": {},
   "source": [
    "# Phys 340 Calculator"
   ]
  },
  {
   "attachments": {},
   "cell_type": "markdown",
   "metadata": {},
   "source": [
    "use `?` after a function name to see what they do.<br>\n",
    "Example: `kelvin_eqn?`"
   ]
  },
  {
   "cell_type": "code",
   "execution_count": 2,
   "metadata": {},
   "outputs": [],
   "source": [
    "data = read_exoplanetA()"
   ]
  },
  {
   "cell_type": "code",
   "execution_count": 3,
   "metadata": {},
   "outputs": [
    {
     "data": {
      "text/html": [
       "<div>\n",
       "<style scoped>\n",
       "    .dataframe tbody tr th:only-of-type {\n",
       "        vertical-align: middle;\n",
       "    }\n",
       "\n",
       "    .dataframe tbody tr th {\n",
       "        vertical-align: top;\n",
       "    }\n",
       "\n",
       "    .dataframe thead th {\n",
       "        text-align: right;\n",
       "    }\n",
       "</style>\n",
       "<table border=\"1\" class=\"dataframe\">\n",
       "  <thead>\n",
       "    <tr style=\"text-align: right;\">\n",
       "      <th></th>\n",
       "      <th>pressure</th>\n",
       "      <th>temperature</th>\n",
       "      <th>air_density</th>\n",
       "      <th>zonal_wind</th>\n",
       "      <th>merid_wind</th>\n",
       "      <th>N2</th>\n",
       "      <th>CO</th>\n",
       "      <th>O2</th>\n",
       "      <th>H2</th>\n",
       "      <th>Ar</th>\n",
       "      <th>H2O</th>\n",
       "    </tr>\n",
       "  </thead>\n",
       "  <tbody>\n",
       "    <tr>\n",
       "      <th>0</th>\n",
       "      <td>70000.000</td>\n",
       "      <td>295.00</td>\n",
       "      <td>0.60473</td>\n",
       "      <td>0.000</td>\n",
       "      <td>0.000</td>\n",
       "      <td>6.376231e+24</td>\n",
       "      <td>5.100985e+24</td>\n",
       "      <td>5.579200e+23</td>\n",
       "      <td>2.856552e+24</td>\n",
       "      <td>1.249740e+23</td>\n",
       "      <td>3.878200e+23</td>\n",
       "    </tr>\n",
       "    <tr>\n",
       "      <th>1</th>\n",
       "      <td>69962.900</td>\n",
       "      <td>294.95</td>\n",
       "      <td>0.60451</td>\n",
       "      <td>0.001</td>\n",
       "      <td>0.008</td>\n",
       "      <td>6.373896e+24</td>\n",
       "      <td>5.099116e+24</td>\n",
       "      <td>5.577160e+23</td>\n",
       "      <td>2.855505e+24</td>\n",
       "      <td>1.249280e+23</td>\n",
       "      <td>3.876780e+23</td>\n",
       "    </tr>\n",
       "    <tr>\n",
       "      <th>2</th>\n",
       "      <td>69925.900</td>\n",
       "      <td>294.90</td>\n",
       "      <td>0.60429</td>\n",
       "      <td>0.002</td>\n",
       "      <td>0.016</td>\n",
       "      <td>6.371561e+24</td>\n",
       "      <td>5.097248e+24</td>\n",
       "      <td>5.575120e+23</td>\n",
       "      <td>2.854459e+24</td>\n",
       "      <td>1.248830e+23</td>\n",
       "      <td>3.875360e+23</td>\n",
       "    </tr>\n",
       "    <tr>\n",
       "      <th>3</th>\n",
       "      <td>69888.800</td>\n",
       "      <td>294.86</td>\n",
       "      <td>0.60407</td>\n",
       "      <td>0.004</td>\n",
       "      <td>0.024</td>\n",
       "      <td>6.369226e+24</td>\n",
       "      <td>5.095381e+24</td>\n",
       "      <td>5.573070e+23</td>\n",
       "      <td>2.853413e+24</td>\n",
       "      <td>1.248370e+23</td>\n",
       "      <td>3.873940e+23</td>\n",
       "    </tr>\n",
       "    <tr>\n",
       "      <th>4</th>\n",
       "      <td>69851.800</td>\n",
       "      <td>294.81</td>\n",
       "      <td>0.60385</td>\n",
       "      <td>0.005</td>\n",
       "      <td>0.032</td>\n",
       "      <td>6.366892e+24</td>\n",
       "      <td>5.093514e+24</td>\n",
       "      <td>5.571030e+23</td>\n",
       "      <td>2.852368e+24</td>\n",
       "      <td>1.247910e+23</td>\n",
       "      <td>3.872520e+23</td>\n",
       "    </tr>\n",
       "    <tr>\n",
       "      <th>...</th>\n",
       "      <td>...</td>\n",
       "      <td>...</td>\n",
       "      <td>...</td>\n",
       "      <td>...</td>\n",
       "      <td>...</td>\n",
       "      <td>...</td>\n",
       "      <td>...</td>\n",
       "      <td>...</td>\n",
       "      <td>...</td>\n",
       "      <td>...</td>\n",
       "      <td>...</td>\n",
       "    </tr>\n",
       "    <tr>\n",
       "      <th>7996</th>\n",
       "      <td>554.520</td>\n",
       "      <td>238.40</td>\n",
       "      <td>0.00327</td>\n",
       "      <td>0.797</td>\n",
       "      <td>0.001</td>\n",
       "      <td>3.153500e+22</td>\n",
       "      <td>2.522800e+22</td>\n",
       "      <td>2.155000e+21</td>\n",
       "      <td>7.040300e+22</td>\n",
       "      <td>2.950000e+20</td>\n",
       "      <td>0.000000e+00</td>\n",
       "    </tr>\n",
       "    <tr>\n",
       "      <th>7997</th>\n",
       "      <td>554.319</td>\n",
       "      <td>238.40</td>\n",
       "      <td>0.00326</td>\n",
       "      <td>0.797</td>\n",
       "      <td>0.001</td>\n",
       "      <td>3.150700e+22</td>\n",
       "      <td>2.520600e+22</td>\n",
       "      <td>2.153000e+21</td>\n",
       "      <td>7.039800e+22</td>\n",
       "      <td>2.940000e+20</td>\n",
       "      <td>0.000000e+00</td>\n",
       "    </tr>\n",
       "    <tr>\n",
       "      <th>7998</th>\n",
       "      <td>554.119</td>\n",
       "      <td>238.40</td>\n",
       "      <td>0.00326</td>\n",
       "      <td>0.796</td>\n",
       "      <td>0.001</td>\n",
       "      <td>3.148000e+22</td>\n",
       "      <td>2.518400e+22</td>\n",
       "      <td>2.151000e+21</td>\n",
       "      <td>7.039400e+22</td>\n",
       "      <td>2.940000e+20</td>\n",
       "      <td>0.000000e+00</td>\n",
       "    </tr>\n",
       "    <tr>\n",
       "      <th>7999</th>\n",
       "      <td>553.919</td>\n",
       "      <td>238.40</td>\n",
       "      <td>0.00326</td>\n",
       "      <td>0.796</td>\n",
       "      <td>0.001</td>\n",
       "      <td>3.145300e+22</td>\n",
       "      <td>2.516200e+22</td>\n",
       "      <td>2.149000e+21</td>\n",
       "      <td>7.038900e+22</td>\n",
       "      <td>2.930000e+20</td>\n",
       "      <td>0.000000e+00</td>\n",
       "    </tr>\n",
       "    <tr>\n",
       "      <th>8000</th>\n",
       "      <td>553.720</td>\n",
       "      <td>238.40</td>\n",
       "      <td>0.00326</td>\n",
       "      <td>0.796</td>\n",
       "      <td>0.001</td>\n",
       "      <td>3.142500e+22</td>\n",
       "      <td>2.514000e+22</td>\n",
       "      <td>2.147000e+21</td>\n",
       "      <td>7.038500e+22</td>\n",
       "      <td>2.930000e+20</td>\n",
       "      <td>0.000000e+00</td>\n",
       "    </tr>\n",
       "  </tbody>\n",
       "</table>\n",
       "<p>8001 rows × 11 columns</p>\n",
       "</div>"
      ],
      "text/plain": [
       "       pressure  temperature  air_density  zonal_wind  merid_wind  \\\n",
       "0     70000.000       295.00      0.60473       0.000       0.000   \n",
       "1     69962.900       294.95      0.60451       0.001       0.008   \n",
       "2     69925.900       294.90      0.60429       0.002       0.016   \n",
       "3     69888.800       294.86      0.60407       0.004       0.024   \n",
       "4     69851.800       294.81      0.60385       0.005       0.032   \n",
       "...         ...          ...          ...         ...         ...   \n",
       "7996    554.520       238.40      0.00327       0.797       0.001   \n",
       "7997    554.319       238.40      0.00326       0.797       0.001   \n",
       "7998    554.119       238.40      0.00326       0.796       0.001   \n",
       "7999    553.919       238.40      0.00326       0.796       0.001   \n",
       "8000    553.720       238.40      0.00326       0.796       0.001   \n",
       "\n",
       "                N2            CO            O2            H2            Ar  \\\n",
       "0     6.376231e+24  5.100985e+24  5.579200e+23  2.856552e+24  1.249740e+23   \n",
       "1     6.373896e+24  5.099116e+24  5.577160e+23  2.855505e+24  1.249280e+23   \n",
       "2     6.371561e+24  5.097248e+24  5.575120e+23  2.854459e+24  1.248830e+23   \n",
       "3     6.369226e+24  5.095381e+24  5.573070e+23  2.853413e+24  1.248370e+23   \n",
       "4     6.366892e+24  5.093514e+24  5.571030e+23  2.852368e+24  1.247910e+23   \n",
       "...            ...           ...           ...           ...           ...   \n",
       "7996  3.153500e+22  2.522800e+22  2.155000e+21  7.040300e+22  2.950000e+20   \n",
       "7997  3.150700e+22  2.520600e+22  2.153000e+21  7.039800e+22  2.940000e+20   \n",
       "7998  3.148000e+22  2.518400e+22  2.151000e+21  7.039400e+22  2.940000e+20   \n",
       "7999  3.145300e+22  2.516200e+22  2.149000e+21  7.038900e+22  2.930000e+20   \n",
       "8000  3.142500e+22  2.514000e+22  2.147000e+21  7.038500e+22  2.930000e+20   \n",
       "\n",
       "               H2O  \n",
       "0     3.878200e+23  \n",
       "1     3.876780e+23  \n",
       "2     3.875360e+23  \n",
       "3     3.873940e+23  \n",
       "4     3.872520e+23  \n",
       "...            ...  \n",
       "7996  0.000000e+00  \n",
       "7997  0.000000e+00  \n",
       "7998  0.000000e+00  \n",
       "7999  0.000000e+00  \n",
       "8000  0.000000e+00  \n",
       "\n",
       "[8001 rows x 11 columns]"
      ]
     },
     "execution_count": 3,
     "metadata": {},
     "output_type": "execute_result"
    }
   ],
   "source": [
    "data"
   ]
  },
  {
   "cell_type": "code",
   "execution_count": 4,
   "metadata": {},
   "outputs": [
    {
     "data": {
      "text/plain": [
       "8.66560919903693"
      ]
     },
     "execution_count": 4,
     "metadata": {},
     "output_type": "execute_result"
    }
   ],
   "source": [
    "clau_clap_eqn(278)"
   ]
  },
  {
   "cell_type": "code",
   "execution_count": 5,
   "metadata": {},
   "outputs": [],
   "source": [
    "import os "
   ]
  },
  {
   "cell_type": "code",
   "execution_count": 6,
   "metadata": {},
   "outputs": [
    {
     "data": {
      "text/plain": [
       "'c:\\\\Users\\\\Thomas\\\\OneDrive\\\\University\\\\Physics\\\\Phys 340\\\\Data'"
      ]
     },
     "execution_count": 6,
     "metadata": {},
     "output_type": "execute_result"
    }
   ],
   "source": [
    "os.getcwd()"
   ]
  },
  {
   "cell_type": "code",
   "execution_count": null,
   "metadata": {},
   "outputs": [],
   "source": []
  }
 ],
 "metadata": {
  "kernelspec": {
   "display_name": "Python 3",
   "language": "python",
   "name": "python3"
  },
  "language_info": {
   "codemirror_mode": {
    "name": "ipython",
    "version": 3
   },
   "file_extension": ".py",
   "mimetype": "text/x-python",
   "name": "python",
   "nbconvert_exporter": "python",
   "pygments_lexer": "ipython3",
   "version": "3.11.1"
  },
  "orig_nbformat": 4,
  "vscode": {
   "interpreter": {
    "hash": "5238573367df39f7286bb46f9ff5f08f63a01a80960060ce41e3c79b190280fa"
   }
  }
 },
 "nbformat": 4,
 "nbformat_minor": 2
}
